{
 "cells": [
  {
   "cell_type": "code",
   "execution_count": 1,
   "id": "43b57f24-4df9-44d3-b472-983ac5358fcc",
   "metadata": {},
   "outputs": [],
   "source": [
    "import math\n",
    "import numpy as np\n",
    "import matplotlib.pyplot as plt\n"
   ]
  },
  {
   "cell_type": "code",
   "execution_count": 20,
   "id": "8e5eca65-285b-428c-8888-03dc03aed5fe",
   "metadata": {},
   "outputs": [],
   "source": [
    "class value():\n",
    "    def __init__(self,data,pre = (),option=''):\n",
    "        \n",
    "        self.data = data\n",
    "        self.pre = pre #假设第一个元素均为参数，第二个元素均为数据值\n",
    "        self.option = option\n",
    "        self.grad = 1  #默认为1，因为自己对自己的梯度为1\n",
    "\n",
    "    def __add__(self,other):\n",
    "        other_value = value(other) if type(other)!=value else other\n",
    "        out = value(self.data+other_value.data, (self, other_value), '+')\n",
    "        return out\n",
    "    def __mul__(self,other):\n",
    "        other_value = value(other) if type(other)!=value else other\n",
    "        out = value(self.data*other_value.data, (self, other_value), '*')\n",
    "        return out\n",
    "    def __pow__(self,other):\n",
    "        other_value = value(other) if type(other)!=value else other\n",
    "        out = value(self.data**other_value.data, (self, other_value), '**')\n",
    "        return out\n",
    "    def __sub__(self,other):\n",
    "        other_value = value(other) if type(other)!=value else other\n",
    "        out = value(self.data-other_value.data, (self, other_value), '-')\n",
    "        return out\n",
    "\n",
    "    def tanh(self):\n",
    "        n = self.data\n",
    "        t = (math.exp(2*n)-1)/(math.exp(2*n)+1)\n",
    "        out = value(t,(self,),'tanh')\n",
    "        return out\n",
    "    def __repr__(self):\n",
    "        return f\"Value(data={self.data}, grad={self.grad})\"\n",
    "    \n",
    "\n",
    "        \n",
    "    "
   ]
  },
  {
   "cell_type": "code",
   "execution_count": 15,
   "id": "2a5565f0-3683-4966-8c90-61943b033070",
   "metadata": {},
   "outputs": [],
   "source": [
    "# grad代表当前点相对于output的梯度,遍历所有的子节点，然后计算相对于之前的梯度，然后再往下遍历，如果pre的值为空则停止遍历。\n",
    "def backward(self):\n",
    "    global lr\n",
    "    if self.pre!=None:\n",
    "        if self.option =='+':\n",
    "            self.pre[0].grad = self.data\n",
    "            self.pre[1].grad = self.data\n",
    "        elif self.option == '*':\n",
    "            self.pre[0].grad = self.data * self.pre[1].data\n",
    "            self.pre[1].grad = self.data * self.pre[0].data\n",
    "        elif self.option=='**':\n",
    "            self.pre[0].grad = self.pre[1].data*(self.pre[0].data**(self.pre[1].data-1))\n",
    "        elif self.option=='-':\n",
    "            print(self.data)\n",
    "            self.pre[0].gard = self.data                           \n",
    "            self.pre[1].gard = 0 - self.data\n",
    "        elif self.option==\"tanh\":\n",
    "            self.pre[0].gard = 1- self.data**2\n",
    "        # 向后传递\n",
    "        if len(self.pre) == 2:\n",
    "            backward(self.pre[0])\n",
    "            backward(self.pre[1])\n",
    "        else:\n",
    "            backward(self.pre[0])\n",
    "    else: return"
   ]
  },
  {
   "cell_type": "code",
   "execution_count": 4,
   "id": "d0fe8820-6018-4966-88f5-f3791e821e03",
   "metadata": {},
   "outputs": [],
   "source": [
    "lr = 0.001"
   ]
  },
  {
   "cell_type": "code",
   "execution_count": 5,
   "id": "56adce48-3533-4907-acc5-4dd2e8d37e6c",
   "metadata": {},
   "outputs": [],
   "source": [
    "from graphviz import Digraph\n",
    "\n",
    "def trace(root):\n",
    "    nodes,edges = set(),set()\n",
    "    def build(v):\n",
    "        if v not in nodes:\n",
    "            nodes.add(v)\n",
    "            for child in v.pre:\n",
    "                edges.add((child,v))\n",
    "                build(child)\n",
    "    build(root)\n",
    "    return nodes,edges\n",
    "\n",
    "def draw_dot(root):\n",
    "    dot =Digraph(format='svg',graph_attr={'rankdir':\"LR\"})\n",
    "    nodes,edges = trace(root)\n",
    "    for n in nodes:\n",
    "        uid = str(id(n))\n",
    "        dot.node(name = uid,label = \"{data%.4f}\"%(n.data,),shape = 'record')\n",
    "        if n.option:\n",
    "            dot.node(name = uid +n.option,label = n.option)\n",
    "            dot.edge(uid+n.option,uid)\n",
    "    for n1,n2 in edges:\n",
    "        dot.edge(str(id(n1)),str(id(n2))+n2.option)\n",
    "    return dot"
   ]
  },
  {
   "cell_type": "code",
   "execution_count": 21,
   "id": "4c06fe6e-6a9f-4b90-a1dd-d9902baf7b5e",
   "metadata": {},
   "outputs": [],
   "source": [
    "# inputs x1,x2\n",
    "x1 = value(2.0)\n",
    "x2 = value(0.0)\n",
    "\n",
    "# weights w1,w2\n",
    "w1 = value(-3.0)\n",
    "w2 = value(1.0)\n",
    "\n",
    "#bias of the neuron\n",
    "b = value(6.8813735870195432)\n",
    "\n",
    "#x1*w1+x2*w2+b\n",
    "x1w1 = x1*w1\n",
    "x2w2 = x2*w2\n",
    "\n",
    "x1w1x2w2 = x1w1+x2w2\n",
    "n = x1w1x2w2+b\n",
    "o = n.tanh()\n",
    "\n",
    "c = value(10.0)\n",
    "e = a*b\n",
    "d = e + c\n",
    "f = value(-2.0)\n",
    "L = d*f\n"
   ]
  },
  {
   "cell_type": "code",
   "execution_count": 22,
   "id": "7f2a0bb4-fc1e-4e8f-a3e2-6f48d775f0b9",
   "metadata": {},
   "outputs": [
    {
     "data": {
      "text/plain": [
       "Value(data=-47.52549434807817, grad=1)"
      ]
     },
     "execution_count": 22,
     "metadata": {},
     "output_type": "execute_result"
    }
   ],
   "source": [
    "L"
   ]
  },
  {
   "cell_type": "code",
   "execution_count": 23,
   "id": "03b94e6e-a46e-47c6-9b93-7713ca5ecaa1",
   "metadata": {},
   "outputs": [
    {
     "ename": "TypeError",
     "evalue": "'set' object is not subscriptable",
     "output_type": "error",
     "traceback": [
      "\u001b[0;31m---------------------------------------------------------------------------\u001b[0m",
      "\u001b[0;31mTypeError\u001b[0m                                 Traceback (most recent call last)",
      "Cell \u001b[0;32mIn[23], line 1\u001b[0m\n\u001b[0;32m----> 1\u001b[0m \u001b[43mbackward\u001b[49m\u001b[43m(\u001b[49m\u001b[43mL\u001b[49m\u001b[43m)\u001b[49m\n",
      "Cell \u001b[0;32mIn[15], line 21\u001b[0m, in \u001b[0;36mbackward\u001b[0;34m(self)\u001b[0m\n\u001b[1;32m     19\u001b[0m \u001b[38;5;66;03m# 向后传递\u001b[39;00m\n\u001b[1;32m     20\u001b[0m \u001b[38;5;28;01mif\u001b[39;00m \u001b[38;5;28mlen\u001b[39m(\u001b[38;5;28mself\u001b[39m\u001b[38;5;241m.\u001b[39mpre) \u001b[38;5;241m==\u001b[39m \u001b[38;5;241m2\u001b[39m:\n\u001b[0;32m---> 21\u001b[0m     \u001b[43mbackward\u001b[49m\u001b[43m(\u001b[49m\u001b[38;5;28;43mself\u001b[39;49m\u001b[38;5;241;43m.\u001b[39;49m\u001b[43mpre\u001b[49m\u001b[43m[\u001b[49m\u001b[38;5;241;43m0\u001b[39;49m\u001b[43m]\u001b[49m\u001b[43m)\u001b[49m\n\u001b[1;32m     22\u001b[0m     backward(\u001b[38;5;28mself\u001b[39m\u001b[38;5;241m.\u001b[39mpre[\u001b[38;5;241m1\u001b[39m])\n\u001b[1;32m     23\u001b[0m \u001b[38;5;28;01melse\u001b[39;00m:\n",
      "Cell \u001b[0;32mIn[15], line 21\u001b[0m, in \u001b[0;36mbackward\u001b[0;34m(self)\u001b[0m\n\u001b[1;32m     19\u001b[0m \u001b[38;5;66;03m# 向后传递\u001b[39;00m\n\u001b[1;32m     20\u001b[0m \u001b[38;5;28;01mif\u001b[39;00m \u001b[38;5;28mlen\u001b[39m(\u001b[38;5;28mself\u001b[39m\u001b[38;5;241m.\u001b[39mpre) \u001b[38;5;241m==\u001b[39m \u001b[38;5;241m2\u001b[39m:\n\u001b[0;32m---> 21\u001b[0m     \u001b[43mbackward\u001b[49m\u001b[43m(\u001b[49m\u001b[38;5;28;43mself\u001b[39;49m\u001b[38;5;241;43m.\u001b[39;49m\u001b[43mpre\u001b[49m\u001b[43m[\u001b[49m\u001b[38;5;241;43m0\u001b[39;49m\u001b[43m]\u001b[49m\u001b[43m)\u001b[49m\n\u001b[1;32m     22\u001b[0m     backward(\u001b[38;5;28mself\u001b[39m\u001b[38;5;241m.\u001b[39mpre[\u001b[38;5;241m1\u001b[39m])\n\u001b[1;32m     23\u001b[0m \u001b[38;5;28;01melse\u001b[39;00m:\n",
      "Cell \u001b[0;32mIn[15], line 21\u001b[0m, in \u001b[0;36mbackward\u001b[0;34m(self)\u001b[0m\n\u001b[1;32m     19\u001b[0m \u001b[38;5;66;03m# 向后传递\u001b[39;00m\n\u001b[1;32m     20\u001b[0m \u001b[38;5;28;01mif\u001b[39;00m \u001b[38;5;28mlen\u001b[39m(\u001b[38;5;28mself\u001b[39m\u001b[38;5;241m.\u001b[39mpre) \u001b[38;5;241m==\u001b[39m \u001b[38;5;241m2\u001b[39m:\n\u001b[0;32m---> 21\u001b[0m     \u001b[43mbackward\u001b[49m\u001b[43m(\u001b[49m\u001b[38;5;28;43mself\u001b[39;49m\u001b[38;5;241;43m.\u001b[39;49m\u001b[43mpre\u001b[49m\u001b[43m[\u001b[49m\u001b[38;5;241;43m0\u001b[39;49m\u001b[43m]\u001b[49m\u001b[43m)\u001b[49m\n\u001b[1;32m     22\u001b[0m     backward(\u001b[38;5;28mself\u001b[39m\u001b[38;5;241m.\u001b[39mpre[\u001b[38;5;241m1\u001b[39m])\n\u001b[1;32m     23\u001b[0m \u001b[38;5;28;01melse\u001b[39;00m:\n",
      "Cell \u001b[0;32mIn[15], line 24\u001b[0m, in \u001b[0;36mbackward\u001b[0;34m(self)\u001b[0m\n\u001b[1;32m     22\u001b[0m         backward(\u001b[38;5;28mself\u001b[39m\u001b[38;5;241m.\u001b[39mpre[\u001b[38;5;241m1\u001b[39m])\n\u001b[1;32m     23\u001b[0m     \u001b[38;5;28;01melse\u001b[39;00m:\n\u001b[0;32m---> 24\u001b[0m         backward(\u001b[38;5;28;43mself\u001b[39;49m\u001b[38;5;241;43m.\u001b[39;49m\u001b[43mpre\u001b[49m\u001b[43m[\u001b[49m\u001b[38;5;241;43m0\u001b[39;49m\u001b[43m]\u001b[49m)\n\u001b[1;32m     25\u001b[0m \u001b[38;5;28;01melse\u001b[39;00m: \u001b[38;5;28;01mreturn\u001b[39;00m\n",
      "\u001b[0;31mTypeError\u001b[0m: 'set' object is not subscriptable"
     ]
    }
   ],
   "source": [
    "backward(L)"
   ]
  },
  {
   "cell_type": "code",
   "execution_count": null,
   "id": "be955c4c-21f7-4fc4-bb03-bdc7cc48cdf6",
   "metadata": {},
   "outputs": [],
   "source": []
  }
 ],
 "metadata": {
  "kernelspec": {
   "display_name": "LLM_Learning",
   "language": "python",
   "name": "llm_learning"
  },
  "language_info": {
   "codemirror_mode": {
    "name": "ipython",
    "version": 3
   },
   "file_extension": ".py",
   "mimetype": "text/x-python",
   "name": "python",
   "nbconvert_exporter": "python",
   "pygments_lexer": "ipython3",
   "version": "3.12.4"
  }
 },
 "nbformat": 4,
 "nbformat_minor": 5
}
